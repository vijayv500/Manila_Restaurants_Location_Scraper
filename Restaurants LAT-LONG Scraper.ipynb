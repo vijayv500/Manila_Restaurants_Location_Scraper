{
 "cells": [
  {
   "cell_type": "code",
   "execution_count": 1,
   "metadata": {},
   "outputs": [],
   "source": [
    "import re\n",
    "import time\n",
    "from time import sleep\n",
    "from random import randint\n",
    "\n",
    "import pandas as pd\n",
    "from bs4 import BeautifulSoup\n",
    "from urllib.request import urlopen,Request\n",
    "import csv\n",
    "\n",
    "pd.set_option('display.max_columns',150)\n",
    "pd.set_option('display.max_rows',150)"
   ]
  },
  {
   "cell_type": "code",
   "execution_count": 47,
   "metadata": {},
   "outputs": [],
   "source": [
    "headers = ({'User-Agent':'Mozilla/5.0 (Macintosh; Intel Mac OS X 11_5_2) AppleWebKit/605.1.15 (KHTML, like Gecko) Version/14.1.2 Safari/605.1.15'})"
   ]
  },
  {
   "cell_type": "code",
   "execution_count": 48,
   "metadata": {},
   "outputs": [],
   "source": [
    "df = pd.read_csv('restaurants URLs.csv')"
   ]
  },
  {
   "cell_type": "code",
   "execution_count": 49,
   "metadata": {},
   "outputs": [
    {
     "data": {
      "text/plain": [
       "(236, 2)"
      ]
     },
     "execution_count": 49,
     "metadata": {},
     "output_type": "execute_result"
    }
   ],
   "source": [
    "df.dropna(inplace=True)\n",
    "df.shape"
   ]
  },
  {
   "cell_type": "code",
   "execution_count": null,
   "metadata": {},
   "outputs": [],
   "source": [
    "restaurants = []\n",
    "i=1\n",
    "for index, row in df.iterrows():\n",
    "\n",
    "    url = row[1]\n",
    "    request = Request(url, headers=headers)\n",
    "    response = urlopen(request)\n",
    "    html = response.read()\n",
    "    html_soup = BeautifulSoup(html ,'html.parser')\n",
    "    print(\"Scraping restaurant {}\".format(index))\n",
    "    sleep(randint(8,15))\n",
    "    \n",
    "    try:\n",
    "        lat = re.findall(r'\"latitude\":\\d+\\.\\d+', str(html_soup))\n",
    "        lat = re.sub(r'\"latitude\":','',lat[3])\n",
    "    except:\n",
    "        lat=''\n",
    "        \n",
    "    try:\n",
    "        long = re.findall(r'\"longitude\":\\d+\\.\\d+', str(html_soup))\n",
    "        long = re.sub(r'\"longitude\":','',long[3])\n",
    "    except:\n",
    "        long=''\n",
    "        \n",
    "    \n",
    "    \n",
    "    \n",
    "    rest = (row[0], lat, long, row[1])\n",
    "    restaurants.append(rest)\n",
    "\n",
    "\n",
    "    i = i + 1\n",
    "    if i == 236:\n",
    "        break"
   ]
  },
  {
   "cell_type": "code",
   "execution_count": null,
   "metadata": {},
   "outputs": [],
   "source": [
    "with open('Restaurants LAT-LONG.csv', 'w', newline='', encoding='utf-8') as f:\n",
    "        w = csv.writer(f)\n",
    "        w.writerow(['Restaurant','Latitude','Longitude','URL'])\n",
    "        w.writerows(restaurants)"
   ]
  }
 ],
 "metadata": {
  "kernelspec": {
   "display_name": "Python 3",
   "language": "python",
   "name": "python3"
  },
  "language_info": {
   "codemirror_mode": {
    "name": "ipython",
    "version": 3
   },
   "file_extension": ".py",
   "mimetype": "text/x-python",
   "name": "python",
   "nbconvert_exporter": "python",
   "pygments_lexer": "ipython3",
   "version": "3.8.5"
  }
 },
 "nbformat": 4,
 "nbformat_minor": 4
}
